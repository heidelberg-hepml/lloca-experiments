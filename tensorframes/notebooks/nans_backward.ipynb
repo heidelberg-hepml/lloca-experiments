{
 "cells": [
  {
   "cell_type": "code",
   "execution_count": 1,
   "metadata": {},
   "outputs": [
    {
     "data": {
      "text/plain": [
       "(tensor([[    nan,     nan,     nan],\n",
       "         [ 0.9636,  0.7470,  0.6222],\n",
       "         [ 0.5196,  0.5692,  0.5562],\n",
       "         [-0.2451,  0.6033,  0.7673],\n",
       "         [ 4.2919,  3.4431,  3.2140],\n",
       "         [ 0.8487,  0.2270,  0.7281],\n",
       "         [ 0.7641,  0.9275,  0.6212],\n",
       "         [ 0.7460,  0.5173,  0.9435],\n",
       "         [ 0.7713,  0.4048,  0.3890],\n",
       "         [ 0.6121,  0.0337,  0.3658]], grad_fn=<AddBackward0>),)"
      ]
     },
     "execution_count": 1,
     "metadata": {},
     "output_type": "execute_result"
    }
   ],
   "source": [
    "# investigate nans:\n",
    "import torch\n",
    "\n",
    "x = torch.randn(10, 3, dtype=torch.float32)\n",
    "x[0, :] = torch.tensor([0.0, 0.0, 0.0])\n",
    "y = x.clone().requires_grad_(True)\n",
    "norm = torch.norm(y, dim=1)\n",
    "grad1 = torch.autograd.grad(norm.sum(), y, create_graph=True)\n",
    "grad2 = torch.autograd.grad(grad1[0].sum(), y, create_graph=True)\n",
    "grad2"
   ]
  },
  {
   "cell_type": "code",
   "execution_count": null,
   "metadata": {},
   "outputs": [],
   "source": []
  }
 ],
 "metadata": {
  "kernelspec": {
   "display_name": "tensor_dft",
   "language": "python",
   "name": "python3"
  },
  "language_info": {
   "codemirror_mode": {
    "name": "ipython",
    "version": 3
   },
   "file_extension": ".py",
   "mimetype": "text/x-python",
   "name": "python",
   "nbconvert_exporter": "python",
   "pygments_lexer": "ipython3",
   "version": "3.11.9"
  }
 },
 "nbformat": 4,
 "nbformat_minor": 2
}
